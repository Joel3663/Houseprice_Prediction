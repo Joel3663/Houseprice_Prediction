{
 "cells": [
  {
   "cell_type": "code",
   "execution_count": 1,
   "id": "e4ad9ae0",
   "metadata": {},
   "outputs": [],
   "source": [
    "import pandas as pd\n",
    "import numpy as np"
   ]
  },
  {
   "cell_type": "code",
   "execution_count": 2,
   "id": "58150ffd",
   "metadata": {},
   "outputs": [],
   "source": [
    "data = pd.read_csv(\"house_price_mumbai.csv\")"
   ]
  },
  {
   "cell_type": "code",
   "execution_count": 3,
   "id": "3041e084",
   "metadata": {},
   "outputs": [
    {
     "data": {
      "text/html": [
       "<div>\n",
       "<style scoped>\n",
       "    .dataframe tbody tr th:only-of-type {\n",
       "        vertical-align: middle;\n",
       "    }\n",
       "\n",
       "    .dataframe tbody tr th {\n",
       "        vertical-align: top;\n",
       "    }\n",
       "\n",
       "    .dataframe thead th {\n",
       "        text-align: right;\n",
       "    }\n",
       "</style>\n",
       "<table border=\"1\" class=\"dataframe\">\n",
       "  <thead>\n",
       "    <tr style=\"text-align: right;\">\n",
       "      <th></th>\n",
       "      <th>BHK</th>\n",
       "      <th>project</th>\n",
       "      <th>Location</th>\n",
       "      <th>City</th>\n",
       "      <th>Total sqft</th>\n",
       "      <th>price_sqft</th>\n",
       "      <th>price</th>\n",
       "    </tr>\n",
       "  </thead>\n",
       "  <tbody>\n",
       "    <tr>\n",
       "      <th>0</th>\n",
       "      <td>3 BHK Apartment</td>\n",
       "      <td>SHREE KRISHNA SangamChembur</td>\n",
       "      <td>Chembur</td>\n",
       "      <td>Mumbai</td>\n",
       "      <td>984</td>\n",
       "      <td>31,000</td>\n",
       "      <td>3.05 Cr</td>\n",
       "    </tr>\n",
       "    <tr>\n",
       "      <th>1</th>\n",
       "      <td>2 BHK Apartment</td>\n",
       "      <td>Ekdanta 24 KaratKurla</td>\n",
       "      <td>Kurla</td>\n",
       "      <td>Mumbai</td>\n",
       "      <td>598</td>\n",
       "      <td>23,913</td>\n",
       "      <td>1.42 Cr</td>\n",
       "    </tr>\n",
       "    <tr>\n",
       "      <th>2</th>\n",
       "      <td>2 BHK Apartment</td>\n",
       "      <td>Liberty Bay VueMalad West</td>\n",
       "      <td>Malad West</td>\n",
       "      <td>Mumbai</td>\n",
       "      <td>738</td>\n",
       "      <td>21,000</td>\n",
       "      <td>1.54 Cr</td>\n",
       "    </tr>\n",
       "    <tr>\n",
       "      <th>3</th>\n",
       "      <td>3 BHK Apartment</td>\n",
       "      <td>Thalia Vrindavan FloraRasayani</td>\n",
       "      <td>Rasayani</td>\n",
       "      <td>Mumbai</td>\n",
       "      <td>644</td>\n",
       "      <td>10,676</td>\n",
       "      <td>68.75 L</td>\n",
       "    </tr>\n",
       "    <tr>\n",
       "      <th>4</th>\n",
       "      <td>2 BHK Apartment</td>\n",
       "      <td>Mayfair The ViewVikhroli</td>\n",
       "      <td>Vikhroli</td>\n",
       "      <td>Mumbai</td>\n",
       "      <td>582</td>\n",
       "      <td>24,914</td>\n",
       "      <td>1.45 Cr</td>\n",
       "    </tr>\n",
       "  </tbody>\n",
       "</table>\n",
       "</div>"
      ],
      "text/plain": [
       "               BHK                         project    Location    City  \\\n",
       "0  3 BHK Apartment     SHREE KRISHNA SangamChembur     Chembur  Mumbai   \n",
       "1  2 BHK Apartment           Ekdanta 24 KaratKurla       Kurla  Mumbai   \n",
       "2  2 BHK Apartment       Liberty Bay VueMalad West  Malad West  Mumbai   \n",
       "3  3 BHK Apartment  Thalia Vrindavan FloraRasayani    Rasayani  Mumbai   \n",
       "4  2 BHK Apartment        Mayfair The ViewVikhroli    Vikhroli  Mumbai   \n",
       "\n",
       "   Total sqft price_sqft    price  \n",
       "0         984     31,000  3.05 Cr  \n",
       "1         598     23,913  1.42 Cr  \n",
       "2         738     21,000  1.54 Cr  \n",
       "3         644     10,676  68.75 L  \n",
       "4         582     24,914  1.45 Cr  "
      ]
     },
     "execution_count": 3,
     "metadata": {},
     "output_type": "execute_result"
    }
   ],
   "source": [
    "data.head()"
   ]
  },
  {
   "cell_type": "code",
   "execution_count": 4,
   "id": "83fdf5b1",
   "metadata": {},
   "outputs": [
    {
     "data": {
      "text/plain": [
       "(3980, 7)"
      ]
     },
     "execution_count": 4,
     "metadata": {},
     "output_type": "execute_result"
    }
   ],
   "source": [
    "data.shape"
   ]
  },
  {
   "cell_type": "code",
   "execution_count": 5,
   "id": "68571b5a",
   "metadata": {},
   "outputs": [
    {
     "name": "stdout",
     "output_type": "stream",
     "text": [
      "<class 'pandas.core.frame.DataFrame'>\n",
      "RangeIndex: 3980 entries, 0 to 3979\n",
      "Data columns (total 7 columns):\n",
      " #   Column      Non-Null Count  Dtype \n",
      "---  ------      --------------  ----- \n",
      " 0   BHK         3980 non-null   object\n",
      " 1   project     3127 non-null   object\n",
      " 2   Location    3980 non-null   object\n",
      " 3   City        3980 non-null   object\n",
      " 4   Total sqft  3980 non-null   int64 \n",
      " 5   price_sqft  3980 non-null   object\n",
      " 6   price       3980 non-null   object\n",
      "dtypes: int64(1), object(6)\n",
      "memory usage: 217.8+ KB\n"
     ]
    }
   ],
   "source": [
    "data.info()"
   ]
  },
  {
   "cell_type": "code",
   "execution_count": 6,
   "id": "0d381672",
   "metadata": {},
   "outputs": [
    {
     "name": "stdout",
     "output_type": "stream",
     "text": [
      "BHK\n",
      "1 BHK Apartment            1322\n",
      "2 BHK Apartment            1058\n",
      "1                           477\n",
      "3 BHK Apartment             387\n",
      "2                           252\n",
      "5 BHK Independent Floor     234\n",
      "1 RK Studio Apartment        77\n",
      "3                            76\n",
      "R                            32\n",
      "4 BHK Apartment              30\n",
      "4                            13\n",
      "1 BHK Independent House       3\n",
      "5 BHK Apartment               3\n",
      "3 BHK Independent House       3\n",
      "5 BHK Independent House       2\n",
      "3 BHK Villa                   2\n",
      "2 BHK Independent Floor       2\n",
      "5                             2\n",
      "6                             1\n",
      "6 BHK Independent Floor       1\n",
      "2 RK Studio Apartment         1\n",
      "3 BHK Independent Floor       1\n",
      "2 BHK Independent House       1\n",
      "Name: count, dtype: int64\n",
      "********************\n",
      "project\n",
      "Reputed Builder Wild Wood Park 2Andheri West                           487\n",
      "JP North BarcelonaMira Road East                                        61\n",
      "Agarwal ParamountVirar                                                  40\n",
      "Piramal Revanta Tower 1Mulund West                                      37\n",
      "Ariisto Bellanza Phase 1 Wing A B C At The Prestige CityMulund West     30\n",
      "                                                                      ... \n",
      "Kohinoor CityKurla                                                       1\n",
      "Shraddha Autumn ParkKanjurmarg                                           1\n",
      "Dynamix AvanyaDahisar                                                    1\n",
      "Shubh Seven Square AvenueBhayandar East                                  1\n",
      "Navkar City Phase I Part 3Naigaon East                                   1\n",
      "Name: count, Length: 967, dtype: int64\n",
      "********************\n",
      "Location\n",
      "Andheri West                   526\n",
      "Mira Road East                 285\n",
      "Dombivali                      240\n",
      "Virar                          186\n",
      "Thane West                     150\n",
      "                              ... \n",
      "Vikhroli West                    1\n",
      "Ranjanpada Uran Panvel Road      1\n",
      "Matunga                          1\n",
      "Deonar                           1\n",
      "Hiranandani Estates              1\n",
      "Name: count, Length: 174, dtype: int64\n",
      "********************\n",
      "City\n",
      "Mumbai    3980\n",
      "Name: count, dtype: int64\n",
      "********************\n",
      "Total sqft\n",
      "651      238\n",
      "1601     213\n",
      "650      104\n",
      "1000      98\n",
      "600       87\n",
      "        ... \n",
      "1658       1\n",
      "10000      1\n",
      "9000       1\n",
      "533        1\n",
      "966        1\n",
      "Name: count, Length: 753, dtype: int64\n",
      "********************\n",
      "price_sqft\n",
      "3,072     236\n",
      "1,249     213\n",
      "6,000      29\n",
      "4,000      28\n",
      "4,100      27\n",
      "         ... \n",
      "11,960      1\n",
      "18,260      1\n",
      "5,940       1\n",
      "14,081      1\n",
      "5,245       1\n",
      "Name: count, Length: 2164, dtype: int64\n",
      "********************\n",
      "price\n",
      "20 L       499\n",
      "65 L        47\n",
      "95 L        45\n",
      "90 L        43\n",
      "60 L        39\n",
      "          ... \n",
      "3 L          1\n",
      "18.29 L      1\n",
      "12.5 Cr      1\n",
      "23.5 Cr      1\n",
      "55.34 L      1\n",
      "Name: count, Length: 870, dtype: int64\n",
      "********************\n"
     ]
    }
   ],
   "source": [
    "for column in data.columns:\n",
    "    print(data[column].value_counts())\n",
    "    print(\"*\"*20)"
   ]
  },
  {
   "cell_type": "code",
   "execution_count": 7,
   "id": "cd6a5a0a",
   "metadata": {},
   "outputs": [
    {
     "data": {
      "text/plain": [
       "BHK             0\n",
       "project       853\n",
       "Location        0\n",
       "City            0\n",
       "Total sqft      0\n",
       "price_sqft      0\n",
       "price           0\n",
       "dtype: int64"
      ]
     },
     "execution_count": 7,
     "metadata": {},
     "output_type": "execute_result"
    }
   ],
   "source": [
    "data.isna().sum()"
   ]
  },
  {
   "cell_type": "code",
   "execution_count": 8,
   "id": "3a6cc8cb",
   "metadata": {},
   "outputs": [],
   "source": [
    "data.drop(columns = ['project','City'],inplace = True)"
   ]
  },
  {
   "cell_type": "code",
   "execution_count": 9,
   "id": "87d151c1",
   "metadata": {},
   "outputs": [
    {
     "data": {
      "text/html": [
       "<div>\n",
       "<style scoped>\n",
       "    .dataframe tbody tr th:only-of-type {\n",
       "        vertical-align: middle;\n",
       "    }\n",
       "\n",
       "    .dataframe tbody tr th {\n",
       "        vertical-align: top;\n",
       "    }\n",
       "\n",
       "    .dataframe thead th {\n",
       "        text-align: right;\n",
       "    }\n",
       "</style>\n",
       "<table border=\"1\" class=\"dataframe\">\n",
       "  <thead>\n",
       "    <tr style=\"text-align: right;\">\n",
       "      <th></th>\n",
       "      <th>BHK</th>\n",
       "      <th>Location</th>\n",
       "      <th>Total sqft</th>\n",
       "      <th>price_sqft</th>\n",
       "      <th>price</th>\n",
       "    </tr>\n",
       "  </thead>\n",
       "  <tbody>\n",
       "    <tr>\n",
       "      <th>0</th>\n",
       "      <td>3 BHK Apartment</td>\n",
       "      <td>Chembur</td>\n",
       "      <td>984</td>\n",
       "      <td>31,000</td>\n",
       "      <td>3.05 Cr</td>\n",
       "    </tr>\n",
       "    <tr>\n",
       "      <th>1</th>\n",
       "      <td>2 BHK Apartment</td>\n",
       "      <td>Kurla</td>\n",
       "      <td>598</td>\n",
       "      <td>23,913</td>\n",
       "      <td>1.42 Cr</td>\n",
       "    </tr>\n",
       "    <tr>\n",
       "      <th>2</th>\n",
       "      <td>2 BHK Apartment</td>\n",
       "      <td>Malad West</td>\n",
       "      <td>738</td>\n",
       "      <td>21,000</td>\n",
       "      <td>1.54 Cr</td>\n",
       "    </tr>\n",
       "    <tr>\n",
       "      <th>3</th>\n",
       "      <td>3 BHK Apartment</td>\n",
       "      <td>Rasayani</td>\n",
       "      <td>644</td>\n",
       "      <td>10,676</td>\n",
       "      <td>68.75 L</td>\n",
       "    </tr>\n",
       "    <tr>\n",
       "      <th>4</th>\n",
       "      <td>2 BHK Apartment</td>\n",
       "      <td>Vikhroli</td>\n",
       "      <td>582</td>\n",
       "      <td>24,914</td>\n",
       "      <td>1.45 Cr</td>\n",
       "    </tr>\n",
       "  </tbody>\n",
       "</table>\n",
       "</div>"
      ],
      "text/plain": [
       "               BHK    Location  Total sqft price_sqft    price\n",
       "0  3 BHK Apartment     Chembur         984     31,000  3.05 Cr\n",
       "1  2 BHK Apartment       Kurla         598     23,913  1.42 Cr\n",
       "2  2 BHK Apartment  Malad West         738     21,000  1.54 Cr\n",
       "3  3 BHK Apartment    Rasayani         644     10,676  68.75 L\n",
       "4  2 BHK Apartment    Vikhroli         582     24,914  1.45 Cr"
      ]
     },
     "execution_count": 9,
     "metadata": {},
     "output_type": "execute_result"
    }
   ],
   "source": [
    "data.head()"
   ]
  },
  {
   "cell_type": "code",
   "execution_count": 10,
   "id": "99e625cf",
   "metadata": {},
   "outputs": [],
   "source": [
    "data['price'] = data['price'].apply(lambda x: float(x.split('Cr')[0])*(10**7) if 'Cr' in x else float(x.split('L')[0])*(10**6) if 'L' in x else float(x))\n"
   ]
  },
  {
   "cell_type": "code",
   "execution_count": 11,
   "id": "e7e1fb18",
   "metadata": {},
   "outputs": [],
   "source": [
    "data['price_sqft'] = pd.to_numeric(data['price_sqft'], errors='coerce')"
   ]
  },
  {
   "cell_type": "code",
   "execution_count": 12,
   "id": "e22fd446",
   "metadata": {},
   "outputs": [
    {
     "name": "stdout",
     "output_type": "stream",
     "text": [
      "                  BHK      Location  Total sqft  price_sqft       price\n",
      "0     3 BHK Apartment       Chembur         984         NaN  30500000.0\n",
      "1     2 BHK Apartment         Kurla         598         NaN  14200000.0\n",
      "2     2 BHK Apartment    Malad West         738         NaN  15400000.0\n",
      "3     3 BHK Apartment      Rasayani         644         NaN  68750000.0\n",
      "4     2 BHK Apartment      Vikhroli         582         NaN  14500000.0\n",
      "...               ...           ...         ...         ...         ...\n",
      "3975  2 BHK Apartment         Vasai         966         NaN  48000000.0\n",
      "3976  1 BHK Apartment  Naigaon East         500         NaN  26000000.0\n",
      "3977  1 BHK Apartment  Naigaon East         610         NaN  34000000.0\n",
      "3978  1 BHK Apartment  Naigaon East         610         NaN  32000000.0\n",
      "3979  1 BHK Apartment  Naigaon East         590         NaN  36000000.0\n",
      "\n",
      "[3980 rows x 5 columns]\n"
     ]
    }
   ],
   "source": [
    "print(data)"
   ]
  },
  {
   "cell_type": "code",
   "execution_count": 13,
   "id": "5576ea6e",
   "metadata": {},
   "outputs": [
    {
     "data": {
      "text/html": [
       "<div>\n",
       "<style scoped>\n",
       "    .dataframe tbody tr th:only-of-type {\n",
       "        vertical-align: middle;\n",
       "    }\n",
       "\n",
       "    .dataframe tbody tr th {\n",
       "        vertical-align: top;\n",
       "    }\n",
       "\n",
       "    .dataframe thead th {\n",
       "        text-align: right;\n",
       "    }\n",
       "</style>\n",
       "<table border=\"1\" class=\"dataframe\">\n",
       "  <thead>\n",
       "    <tr style=\"text-align: right;\">\n",
       "      <th></th>\n",
       "      <th>Total sqft</th>\n",
       "      <th>price_sqft</th>\n",
       "      <th>price</th>\n",
       "    </tr>\n",
       "  </thead>\n",
       "  <tbody>\n",
       "    <tr>\n",
       "      <th>count</th>\n",
       "      <td>3980.000000</td>\n",
       "      <td>28.000000</td>\n",
       "      <td>3.980000e+03</td>\n",
       "    </tr>\n",
       "    <tr>\n",
       "      <th>mean</th>\n",
       "      <td>895.417588</td>\n",
       "      <td>388.321429</td>\n",
       "      <td>3.754819e+07</td>\n",
       "    </tr>\n",
       "    <tr>\n",
       "      <th>std</th>\n",
       "      <td>688.831332</td>\n",
       "      <td>163.480218</td>\n",
       "      <td>2.625071e+07</td>\n",
       "    </tr>\n",
       "    <tr>\n",
       "      <th>min</th>\n",
       "      <td>127.000000</td>\n",
       "      <td>114.000000</td>\n",
       "      <td>1.250000e+06</td>\n",
       "    </tr>\n",
       "    <tr>\n",
       "      <th>25%</th>\n",
       "      <td>590.000000</td>\n",
       "      <td>299.250000</td>\n",
       "      <td>2.000000e+07</td>\n",
       "    </tr>\n",
       "    <tr>\n",
       "      <th>50%</th>\n",
       "      <td>717.000000</td>\n",
       "      <td>332.000000</td>\n",
       "      <td>2.800000e+07</td>\n",
       "    </tr>\n",
       "    <tr>\n",
       "      <th>75%</th>\n",
       "      <td>1060.000000</td>\n",
       "      <td>525.000000</td>\n",
       "      <td>5.250000e+07</td>\n",
       "    </tr>\n",
       "    <tr>\n",
       "      <th>max</th>\n",
       "      <td>16000.000000</td>\n",
       "      <td>734.000000</td>\n",
       "      <td>3.000000e+08</td>\n",
       "    </tr>\n",
       "  </tbody>\n",
       "</table>\n",
       "</div>"
      ],
      "text/plain": [
       "         Total sqft  price_sqft         price\n",
       "count   3980.000000   28.000000  3.980000e+03\n",
       "mean     895.417588  388.321429  3.754819e+07\n",
       "std      688.831332  163.480218  2.625071e+07\n",
       "min      127.000000  114.000000  1.250000e+06\n",
       "25%      590.000000  299.250000  2.000000e+07\n",
       "50%      717.000000  332.000000  2.800000e+07\n",
       "75%     1060.000000  525.000000  5.250000e+07\n",
       "max    16000.000000  734.000000  3.000000e+08"
      ]
     },
     "execution_count": 13,
     "metadata": {},
     "output_type": "execute_result"
    }
   ],
   "source": [
    "data.describe()"
   ]
  },
  {
   "cell_type": "code",
   "execution_count": 14,
   "id": "7672c8e7",
   "metadata": {},
   "outputs": [
    {
     "name": "stdout",
     "output_type": "stream",
     "text": [
      "<class 'pandas.core.frame.DataFrame'>\n",
      "RangeIndex: 3980 entries, 0 to 3979\n",
      "Data columns (total 5 columns):\n",
      " #   Column      Non-Null Count  Dtype  \n",
      "---  ------      --------------  -----  \n",
      " 0   BHK         3980 non-null   object \n",
      " 1   Location    3980 non-null   object \n",
      " 2   Total sqft  3980 non-null   int64  \n",
      " 3   price_sqft  28 non-null     float64\n",
      " 4   price       3980 non-null   float64\n",
      "dtypes: float64(2), int64(1), object(2)\n",
      "memory usage: 155.6+ KB\n"
     ]
    }
   ],
   "source": [
    "data.info()"
   ]
  },
  {
   "cell_type": "code",
   "execution_count": 15,
   "id": "0ac4de2c",
   "metadata": {},
   "outputs": [],
   "source": [
    "data.drop(columns = ['price_sqft'],inplace = True)"
   ]
  },
  {
   "cell_type": "code",
   "execution_count": 16,
   "id": "54e0aca4",
   "metadata": {},
   "outputs": [
    {
     "data": {
      "text/html": [
       "<div>\n",
       "<style scoped>\n",
       "    .dataframe tbody tr th:only-of-type {\n",
       "        vertical-align: middle;\n",
       "    }\n",
       "\n",
       "    .dataframe tbody tr th {\n",
       "        vertical-align: top;\n",
       "    }\n",
       "\n",
       "    .dataframe thead th {\n",
       "        text-align: right;\n",
       "    }\n",
       "</style>\n",
       "<table border=\"1\" class=\"dataframe\">\n",
       "  <thead>\n",
       "    <tr style=\"text-align: right;\">\n",
       "      <th></th>\n",
       "      <th>Total sqft</th>\n",
       "      <th>price</th>\n",
       "    </tr>\n",
       "  </thead>\n",
       "  <tbody>\n",
       "    <tr>\n",
       "      <th>count</th>\n",
       "      <td>3980.000000</td>\n",
       "      <td>3.980000e+03</td>\n",
       "    </tr>\n",
       "    <tr>\n",
       "      <th>mean</th>\n",
       "      <td>895.417588</td>\n",
       "      <td>3.754819e+07</td>\n",
       "    </tr>\n",
       "    <tr>\n",
       "      <th>std</th>\n",
       "      <td>688.831332</td>\n",
       "      <td>2.625071e+07</td>\n",
       "    </tr>\n",
       "    <tr>\n",
       "      <th>min</th>\n",
       "      <td>127.000000</td>\n",
       "      <td>1.250000e+06</td>\n",
       "    </tr>\n",
       "    <tr>\n",
       "      <th>25%</th>\n",
       "      <td>590.000000</td>\n",
       "      <td>2.000000e+07</td>\n",
       "    </tr>\n",
       "    <tr>\n",
       "      <th>50%</th>\n",
       "      <td>717.000000</td>\n",
       "      <td>2.800000e+07</td>\n",
       "    </tr>\n",
       "    <tr>\n",
       "      <th>75%</th>\n",
       "      <td>1060.000000</td>\n",
       "      <td>5.250000e+07</td>\n",
       "    </tr>\n",
       "    <tr>\n",
       "      <th>max</th>\n",
       "      <td>16000.000000</td>\n",
       "      <td>3.000000e+08</td>\n",
       "    </tr>\n",
       "  </tbody>\n",
       "</table>\n",
       "</div>"
      ],
      "text/plain": [
       "         Total sqft         price\n",
       "count   3980.000000  3.980000e+03\n",
       "mean     895.417588  3.754819e+07\n",
       "std      688.831332  2.625071e+07\n",
       "min      127.000000  1.250000e+06\n",
       "25%      590.000000  2.000000e+07\n",
       "50%      717.000000  2.800000e+07\n",
       "75%     1060.000000  5.250000e+07\n",
       "max    16000.000000  3.000000e+08"
      ]
     },
     "execution_count": 16,
     "metadata": {},
     "output_type": "execute_result"
    }
   ],
   "source": [
    "data.describe()"
   ]
  },
  {
   "cell_type": "code",
   "execution_count": 17,
   "id": "cb7c8607",
   "metadata": {},
   "outputs": [
    {
     "name": "stdout",
     "output_type": "stream",
     "text": [
      "0        30995.934959\n",
      "1        23745.819398\n",
      "2        20867.208672\n",
      "3       106754.658385\n",
      "4        24914.089347\n",
      "            ...      \n",
      "3975     49689.440994\n",
      "3976     52000.000000\n",
      "3977     55737.704918\n",
      "3978     52459.016393\n",
      "3979     61016.949153\n",
      "Name: price_per_sqft, Length: 3980, dtype: float64\n"
     ]
    }
   ],
   "source": [
    "data['price_per_sqft'] = data['price']/data['Total sqft']\n",
    "print(data[\"price_per_sqft\"])"
   ]
  },
  {
   "cell_type": "code",
   "execution_count": 18,
   "id": "ca5bf053",
   "metadata": {},
   "outputs": [
    {
     "name": "stdout",
     "output_type": "stream",
     "text": [
      "0       3.0\n",
      "1       2.0\n",
      "2       2.0\n",
      "3       3.0\n",
      "4       2.0\n",
      "       ... \n",
      "3975    2.0\n",
      "3976    1.0\n",
      "3977    1.0\n",
      "3978    1.0\n",
      "3979    1.0\n",
      "Name: BHK, Length: 3980, dtype: float64\n"
     ]
    }
   ],
   "source": [
    "data['BHK'] = data['BHK'].str.extract(r'(\\d+)').astype(float)\n",
    "print(data['BHK'])"
   ]
  },
  {
   "cell_type": "code",
   "execution_count": 19,
   "id": "3fecbb1f",
   "metadata": {},
   "outputs": [],
   "source": [
    "data.dropna(inplace=True)\n"
   ]
  },
  {
   "cell_type": "code",
   "execution_count": 20,
   "id": "edbe8ec2",
   "metadata": {},
   "outputs": [
    {
     "data": {
      "text/html": [
       "<div>\n",
       "<style scoped>\n",
       "    .dataframe tbody tr th:only-of-type {\n",
       "        vertical-align: middle;\n",
       "    }\n",
       "\n",
       "    .dataframe tbody tr th {\n",
       "        vertical-align: top;\n",
       "    }\n",
       "\n",
       "    .dataframe thead th {\n",
       "        text-align: right;\n",
       "    }\n",
       "</style>\n",
       "<table border=\"1\" class=\"dataframe\">\n",
       "  <thead>\n",
       "    <tr style=\"text-align: right;\">\n",
       "      <th></th>\n",
       "      <th>BHK</th>\n",
       "      <th>Location</th>\n",
       "      <th>Total_sqft</th>\n",
       "      <th>price</th>\n",
       "      <th>price_per_sqft</th>\n",
       "    </tr>\n",
       "  </thead>\n",
       "  <tbody>\n",
       "    <tr>\n",
       "      <th>0</th>\n",
       "      <td>3.0</td>\n",
       "      <td>Chembur</td>\n",
       "      <td>984</td>\n",
       "      <td>30500000.0</td>\n",
       "      <td>30995.934959</td>\n",
       "    </tr>\n",
       "    <tr>\n",
       "      <th>1</th>\n",
       "      <td>2.0</td>\n",
       "      <td>Kurla</td>\n",
       "      <td>598</td>\n",
       "      <td>14200000.0</td>\n",
       "      <td>23745.819398</td>\n",
       "    </tr>\n",
       "    <tr>\n",
       "      <th>2</th>\n",
       "      <td>2.0</td>\n",
       "      <td>Malad West</td>\n",
       "      <td>738</td>\n",
       "      <td>15400000.0</td>\n",
       "      <td>20867.208672</td>\n",
       "    </tr>\n",
       "    <tr>\n",
       "      <th>3</th>\n",
       "      <td>3.0</td>\n",
       "      <td>Rasayani</td>\n",
       "      <td>644</td>\n",
       "      <td>68750000.0</td>\n",
       "      <td>106754.658385</td>\n",
       "    </tr>\n",
       "    <tr>\n",
       "      <th>4</th>\n",
       "      <td>2.0</td>\n",
       "      <td>Vikhroli</td>\n",
       "      <td>582</td>\n",
       "      <td>14500000.0</td>\n",
       "      <td>24914.089347</td>\n",
       "    </tr>\n",
       "  </tbody>\n",
       "</table>\n",
       "</div>"
      ],
      "text/plain": [
       "   BHK    Location  Total_sqft       price  price_per_sqft\n",
       "0  3.0     Chembur         984  30500000.0    30995.934959\n",
       "1  2.0       Kurla         598  14200000.0    23745.819398\n",
       "2  2.0  Malad West         738  15400000.0    20867.208672\n",
       "3  3.0    Rasayani         644  68750000.0   106754.658385\n",
       "4  2.0    Vikhroli         582  14500000.0    24914.089347"
      ]
     },
     "execution_count": 20,
     "metadata": {},
     "output_type": "execute_result"
    }
   ],
   "source": [
    "data.rename(columns={'Total sqft': 'Total_sqft'}, inplace=True)\n",
    "data.head()"
   ]
  },
  {
   "cell_type": "code",
   "execution_count": 21,
   "id": "709e78c1",
   "metadata": {},
   "outputs": [],
   "source": [
    "#saving cleaned data\n",
    "data.to_csv(\"final_dataset.csv\")"
   ]
  },
  {
   "cell_type": "code",
   "execution_count": 22,
   "id": "e8f2fed0",
   "metadata": {},
   "outputs": [],
   "source": [
    "#Splitting the dataset\n",
    "X = data.drop(columns=['price'])\n",
    "Y = data['price']"
   ]
  },
  {
   "cell_type": "code",
   "execution_count": 23,
   "id": "d13b9626",
   "metadata": {},
   "outputs": [],
   "source": [
    "# importing required modules\n",
    "from sklearn.preprocessing import StandardScaler, OneHotEncoder\n",
    "from sklearn.model_selection import train_test_split\n",
    "from sklearn.compose import ColumnTransformer\n",
    "from sklearn.pipeline import Pipeline\n",
    "from sklearn.linear_model import LinearRegression\n",
    "from sklearn.metrics import mean_absolute_error, mean_squared_error, r2_score"
   ]
  },
  {
   "cell_type": "raw",
   "id": "94125a92",
   "metadata": {},
   "source": []
  },
  {
   "cell_type": "code",
   "execution_count": 24,
   "id": "82ebc3fd",
   "metadata": {},
   "outputs": [],
   "source": [
    "X_train,X_test,Y_train,Y_test = train_test_split(X,Y,test_size=0.2, random_state=0)"
   ]
  },
  {
   "cell_type": "code",
   "execution_count": 25,
   "id": "9dbe2b42",
   "metadata": {},
   "outputs": [
    {
     "name": "stdout",
     "output_type": "stream",
     "text": [
      "(3158, 4)\n",
      "(3158,)\n"
     ]
    }
   ],
   "source": [
    "print(X_train.shape)\n",
    "print(Y_train.shape)"
   ]
  },
  {
   "cell_type": "code",
   "execution_count": 26,
   "id": "8b385170",
   "metadata": {},
   "outputs": [
    {
     "data": {
      "text/plain": [
       "(3948, 5)"
      ]
     },
     "execution_count": 26,
     "metadata": {},
     "output_type": "execute_result"
    }
   ],
   "source": [
    "data.shape"
   ]
  },
  {
   "cell_type": "code",
   "execution_count": 27,
   "id": "0f22486e",
   "metadata": {},
   "outputs": [],
   "source": [
    "# Applying Linear REgression\n"
   ]
  },
  {
   "cell_type": "code",
   "execution_count": 28,
   "id": "767fb88b",
   "metadata": {},
   "outputs": [],
   "source": [
    "# Define the column transformer\n",
    "preprocessor = ColumnTransformer(\n",
    "    transformers=[\n",
    "        ('location', OneHotEncoder(handle_unknown='ignore'), ['Location']),\n",
    "        ('scaler', StandardScaler(), ['BHK', 'price_per_sqft', 'Total_sqft'])\n",
    "    ],\n",
    "    remainder='passthrough'\n",
    ")\n"
   ]
  },
  {
   "cell_type": "code",
   "execution_count": 29,
   "id": "9414b6ec",
   "metadata": {},
   "outputs": [
    {
     "name": "stdout",
     "output_type": "stream",
     "text": [
      "Linear Regression:\n",
      "R-squared: 0.7504070888387353\n",
      "Mean Absolute Error: 8620891.71580667\n",
      "Mean Squared Error: 155202545553917.38\n",
      "Root Mean Squared Error: 12458031.36751218\n"
     ]
    }
   ],
   "source": [
    "# Create a pipeline for Linear Regression\n",
    "linear_pipeline = Pipeline(steps=[\n",
    "    ('preprocessor', preprocessor),\n",
    "    ('regressor', LinearRegression())\n",
    "])\n",
    "\n",
    "# Fit the model to the training data\n",
    "linear_pipeline.fit(X_train, Y_train)\n",
    "\n",
    "# Predict on the test data\n",
    "linear_Y_pred = linear_pipeline.predict(X_test)\n",
    "\n",
    "# Calculate evaluation metrics for Linear Regression\n",
    "linear_r2 = r2_score(Y_test, linear_Y_pred)\n",
    "linear_mae = mean_absolute_error(Y_test, linear_Y_pred)\n",
    "linear_mse = mean_squared_error(Y_test, linear_Y_pred)\n",
    "linear_rmse = np.sqrt(linear_mse)\n",
    "\n",
    "# Print evaluation metrics for Linear Regression\n",
    "print(\"Linear Regression:\")\n",
    "print(f'R-squared: {linear_r2}')\n",
    "print(f'Mean Absolute Error: {linear_mae}')\n",
    "print(f'Mean Squared Error: {linear_mse}')\n",
    "print(f'Root Mean Squared Error: {linear_rmse}')\n"
   ]
  },
  {
   "cell_type": "code",
   "execution_count": 30,
   "id": "40da133a",
   "metadata": {},
   "outputs": [
    {
     "name": "stdout",
     "output_type": "stream",
     "text": [
      "\n",
      "Random Forest:\n",
      "R-squared: 0.9949242620793741\n",
      "Mean Absolute Error: 599614.8101265823\n",
      "Mean Squared Error: 3156209213556.962\n",
      "Root Mean Squared Error: 1776572.321510431\n"
     ]
    }
   ],
   "source": [
    "from sklearn.ensemble import RandomForestRegressor\n",
    "from sklearn.pipeline import Pipeline\n",
    "\n",
    "# Create a pipeline for Random Forest\n",
    "rf_pipeline = Pipeline(steps=[\n",
    "    ('preprocessor', preprocessor),\n",
    "    ('regressor', RandomForestRegressor(n_estimators=100 ,random_state=42))\n",
    "])\n",
    "\n",
    "# Fit the model to the training data\n",
    "rf_pipeline.fit(X_train, Y_train)\n",
    "\n",
    "# Predict on the test data\n",
    "rf_Y_pred = rf_pipeline.predict(X_test)\n",
    "\n",
    "# Calculate evaluation metrics for Random Forest\n",
    "rf_r2 = r2_score(Y_test, rf_Y_pred)\n",
    "rf_mae = mean_absolute_error(Y_test, rf_Y_pred)\n",
    "rf_mse = mean_squared_error(Y_test, rf_Y_pred)\n",
    "rf_rmse = np.sqrt(rf_mse)\n",
    "\n",
    "# Print evaluation metrics for Random Forest\n",
    "print(\"\\nRandom Forest:\")\n",
    "print(f'R-squared: {rf_r2}')\n",
    "print(f'Mean Absolute Error: {rf_mae}')\n",
    "print(f'Mean Squared Error: {rf_mse}')\n",
    "print(f'Root Mean Squared Error: {rf_rmse}')\n"
   ]
  },
  {
   "cell_type": "code",
   "execution_count": 31,
   "id": "5b7a134e",
   "metadata": {},
   "outputs": [],
   "source": [
    "import pickle\n",
    "with open('model/random_forest_pipeline.pkl', 'wb') as file:\n",
    "    pickle.dump(rf_pipeline, file)"
   ]
  },
  {
   "cell_type": "code",
   "execution_count": 32,
   "id": "1f207281",
   "metadata": {},
   "outputs": [
    {
     "name": "stdout",
     "output_type": "stream",
     "text": [
      "1.5.0\n"
     ]
    }
   ],
   "source": [
    "import sklearn\n",
    "print(sklearn.__version__)"
   ]
  },
  {
   "cell_type": "markdown",
   "id": "6f6cb8c0",
   "metadata": {},
   "source": []
  },
  {
   "cell_type": "code",
   "execution_count": 35,
   "id": "a6b1458f",
   "metadata": {},
   "outputs": [
    {
     "name": "stdout",
     "output_type": "stream",
     "text": [
      "127\n",
      "12600\n"
     ]
    }
   ],
   "source": [
    "print(data['Total_sqft'].min())\n",
    "print(data['Total_sqft'].max())"
   ]
  },
  {
   "cell_type": "code",
   "execution_count": 36,
   "id": "5ca6d38c",
   "metadata": {},
   "outputs": [
    {
     "name": "stdout",
     "output_type": "stream",
     "text": [
      "['Chembur' 'Kurla' 'Malad West' 'Rasayani' 'Vikhroli' 'Neral' 'Mahim'\n",
      " 'Fort' 'Dombivali' 'Palghar' 'Malad East' 'Vangani' 'Jogeshwari West'\n",
      " 'Dahisar' 'Borivali East' 'Mulund West' 'Kharghar' 'Vasai'\n",
      " 'Santacruz East' 'Ambernath East' 'Andheri West' 'Mazagaon' 'Karjat'\n",
      " 'Khopoli' 'Goregaon East' 'Panvel' 'Kalyan West' 'Andheri East'\n",
      " 'Dronagiri' 'Umroli' 'Virar' 'Kalyan East' 'Thane West' 'Shahapur'\n",
      " 'Taloja' 'Ulwe' 'Badlapur East' 'Titwala' 'Diva' 'Kamothe' 'Bhiwandi'\n",
      " 'Kandivali West' 'Powai' 'Badlapur West' 'Dombivali East'\n",
      " 'Mira Road East' 'Vasai east' 'Wada' 'Dadar East' 'Colaba' 'Sion'\n",
      " 'Santosh Nagar' 'Virar East' 'Agripada' 'Gorai' 'Virar West'\n",
      " 'Santacruz West' 'Kalwa' 'Nala Sopara' 'Hendre Pada' 'Vasai West'\n",
      " 'Mazgaon' 'Belapur' 'Borivali West' 'Nerul' 'Kumbharkhan Pada'\n",
      " 'Ghatkopar West' 'Khadawali' 'Mulund East' 'Kalamboli' 'Karanjade'\n",
      " 'Kanjurmarg' 'Anjurdive' 'Navade' 'Airoli' 'matunga east' 'Vichumbe'\n",
      " 'Goregaon West' 'Bhangarwadi' 'Bandra West' 'Mandvi' 'Kamathipura'\n",
      " 'Nalasopara West' 'Bhayandar West' 'Boisar' 'Dharamveer Nagar'\n",
      " 'Bhayandar East' 'Diva Gaon' 'Parel' 'Sanpada' 'Jogeshwari East'\n",
      " 'Girgaon' 'Koper Khairane' 'Dombivli (West)' 'Taloje' 'Dundare'\n",
      " 'Pale Bk.' 'Thakurli' 'Bhandup West' 'Seawoods' 'Vikhroli West'\n",
      " 'Kandivali East' 'Sewri' 'Ghatkopar East' 'Kanjurmarg East' 'Kurla West'\n",
      " 'Vevoor' 'Nalasopara East' 'Ville Parle East' 'Mumbai Central' 'Shelu'\n",
      " 'Palava' 'Byculla' 'New Balaji Nagar' 'Dahisar East' 'Vasind' 'Juhu'\n",
      " 'Wadala' 'Dahisar West' 'Ambivli' 'Navapada' 'Kurla East'\n",
      " 'Greater Khanda' 'Ambernath West' 'Dadar West' 'Napeansea Road'\n",
      " 'Vishnu Nagar' 'Nilje Gaon' 'Vikroli East' 'Prabhadevi' 'Khar West'\n",
      " 'Masjid Bandar' 'Beturkar Pada' 'Ghodbander' 'Datiwali Gaon' 'Saphale'\n",
      " 'Bandra East' 'Naigaon West' 'Koproli' 'Shil Phata' 'Cuffe Parade'\n",
      " 'Lower Parel' 'Vashi' 'Deonar' 'Matunga' 'Ulhasnagar'\n",
      " 'kasaradavali thane west' 'Peddar Road' 'Naigaon East' 'LBS Marg'\n",
      " 'Hiranandani Estates' 'Bhandup East' 'Rabale' 'Atgaon' 'Ghansoli' 'Dighe'\n",
      " 'Worli' 'Kharodi' 'Madanpura' 'Dahisar Navi mumbai' 'Khar'\n",
      " 'Bandra Kurla Complex' 'Nahur East' 'Usarghar Gaon' 'Kasheli'\n",
      " 'Thane East' 'Bhuleshwar' 'Sector-20 Koparkhairane']\n"
     ]
    }
   ],
   "source": [
    "print(data['Location'].unique())"
   ]
  }
 ],
 "metadata": {
  "kernelspec": {
   "display_name": "Python 3 (ipykernel)",
   "language": "python",
   "name": "python3"
  },
  "language_info": {
   "codemirror_mode": {
    "name": "ipython",
    "version": 3
   },
   "file_extension": ".py",
   "mimetype": "text/x-python",
   "name": "python",
   "nbconvert_exporter": "python",
   "pygments_lexer": "ipython3",
   "version": "3.11.7"
  }
 },
 "nbformat": 4,
 "nbformat_minor": 5
}
